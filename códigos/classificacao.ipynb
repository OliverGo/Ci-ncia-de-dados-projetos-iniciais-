{
 "cells": [
  {
   "cell_type": "markdown",
   "metadata": {},
   "source": [
    "Imagine que você foi contratado por uma empresa de tecnologia para trabalhar em um projeto desafiador: melhorar o sistema de e-mail da empresa. Atualmente, muitos e-mails indesejados (spam) estão passando despercebidos pelo filtro atual, causando transtornos para os funcionários. Sua missão é desenvolver um sistema de classificação mais eficiente que consiga diferenciar com precisão os e-mails “spam” dos “não spam”.\n",
    "\n",
    "Você possui acesso a um banco de dados de e-mails antigos, já rotulados como “spam” ou “não spam”, e seu chefe pediu para que você proponha uma solução usando aprendizado supervisionado. Com base no que você aprendeu sobre algoritmos de classificação, qual você escolheria para este desafio e por quê? Explique como o algoritmo funciona, por que ele seria eficaz para esse problema específico e qualquer outra consideração relevante que deva ser levada em conta ao implementar a solução. Para ajudá-lo a se guiar na sua resposta, veja alguns aspectos que você pode levar em consideração:\n",
    "\n",
    "#### Contextualização: Explicar o cenário do problema, identificando a necessidade de uma solução de classificação eficiente.\n",
    "\n",
    "\n",
    "#### Escolha do Algoritmo: Indicar claramente o algoritmo escolhido.\n",
    "\n",
    "\n",
    "#### Justificativa Técnica: Explicar como o algoritmo funciona, detalhando sua aplicabilidade ao problema de classificação de e-mails.\n",
    "\n",
    "\n",
    "#### Adequação ao Problema: Justificar por que o algoritmo é adequado, considerando aspectos como eficiência, facilidade de implementação e possíveis limitações.\n",
    "\n",
    "\n",
    "#### Considerações Adicionais: Incluir qualquer consideração adicional relevante ao contexto do problema, como a natureza dos dados ou a complexidade computacional."
   ]
  },
  {
   "cell_type": "markdown",
   "metadata": {},
   "source": [
    "## Explicação da solução:\n",
    "\n",
    "Algoritmo para classificar emails em spam e não spam.\n",
    "\n",
    "Algoritmo: Regressão Logística, um algoritimo de aprendizado supervisionado  para classificação binaria, onde posso classificar spam = 1 e não spam = 0.\n",
    "\n",
    "A regressão logistica permite classificação binaria, ondem os emails serão classificados em 0 ou 1, facilitando a resolução do problema."
   ]
  },
  {
   "cell_type": "code",
   "execution_count": 3,
   "metadata": {},
   "outputs": [],
   "source": [
    "import pandas as pd # importa o pandas para trabalhar com dataframes \n",
    "import numpy as np # importa o numpy para trabalhar com vetores e matrizes\n",
    "import matplotlib.pyplot as plt # importa o matplotlib para plotar dados em forma de gráfico \n",
    "from sklearn.model_selection import train_test_split # importa a train_test_split para dividir o conjuto de treino e teste \n",
    "from sklearn.preprocessing import StandardScaler # para normalizar os dados se necessário \n",
    "from sklearn.linear_model import LogisticRegression # importa o algoritmo principal: regressão logística\n",
    "from sklearn.metrics import accuracy_score, confusion_matrix, classification_report \n"
   ]
  },
  {
   "cell_type": "code",
   "execution_count": 12,
   "metadata": {},
   "outputs": [
    {
     "name": "stdout",
     "output_type": "stream",
     "text": [
      "     comprimento_email  qtd_links  qtd_palavras_suspeitas  spam\n",
      "0           388.202617          0                       0     0\n",
      "1           320.007860          6                       8     1\n",
      "2           348.936899          3                      15     1\n",
      "3           412.044660          6                       5     1\n",
      "4           393.377900          9                       3     1\n",
      "..                 ...        ...                     ...   ...\n",
      "995         320.643541          5                      10     0\n",
      "996         290.080055          5                      11     1\n",
      "997         304.709615          3                       6     0\n",
      "998         242.619453          7                       1     1\n",
      "999         282.094296          6                      13     1\n",
      "\n",
      "[1000 rows x 4 columns]\n",
      "Acurácia: 0.905\n",
      "[[ 62   9]\n",
      " [ 10 119]]\n",
      "              precision    recall  f1-score   support\n",
      "\n",
      "           0       0.86      0.87      0.87        71\n",
      "           1       0.93      0.92      0.93       129\n",
      "\n",
      "    accuracy                           0.91       200\n",
      "   macro avg       0.90      0.90      0.90       200\n",
      "weighted avg       0.91      0.91      0.91       200\n",
      "\n"
     ]
    }
   ],
   "source": [
    "# Gera um conjunto de dados para simular o problema \n",
    "np.random.seed(0)\n",
    "num_samples = 1000\n",
    "\n",
    "# Criando variáveis simuladas\n",
    "comprimento_email = np.random.normal(300, 50, num_samples)  # Tamanho do e-mail em caracteres\n",
    "links = np.random.randint(0, 10, num_samples)  # Quantidade de links no e-mail\n",
    "palavras_sus = np.random.randint(0, 20, num_samples)  # Palavras suspeitas (\"grátis\", \"promoção\", etc.)\n",
    "\n",
    "# Definindo a variável alvo (1 = spam, 0 = não spam)\n",
    "spam = (links > 5) | (palavras_sus > 10)\n",
    "spam = spam.astype(int)\n",
    "\n",
    "# Cria um DataFrame\n",
    "df = pd.DataFrame({\n",
    "    'comprimento_email': comprimento_email,\n",
    "    'qtd_links': links,\n",
    "    'qtd_palavras_suspeitas': palavras_sus,\n",
    "    'spam': spam\n",
    "})\n",
    "\n",
    "# Visualizando os primeiros dados\n",
    "print(df)\n",
    "\n",
    "# Separa as variaveis em independentes e dependentes:\n",
    "X = df[['comprimento_email', 'qtd_links', 'qtd_palavras_suspeitas']] # variaveis independentes\n",
    "y = df['spam'] # variavel dependente \n",
    "\n",
    "# Dividindo entre treino e teste (80% treino, 20% teste)\n",
    "X_train, X_test, y_train, y_test = train_test_split(X, y, test_size=0.2, random_state=42)\n",
    "\n",
    "# Normalizando os dados para melhorar o modelo\n",
    "scaler = StandardScaler()\n",
    "X_train = scaler.fit_transform(X_train)\n",
    "X_test = scaler.transform(X_test)\n",
    "\n",
    "# Cria treina o modelo\n",
    "model = LogisticRegression()\n",
    "model.fit(X_train, y_train)\n",
    "\n",
    "# Faz  previsões\n",
    "y_pred = model.predict(X_test)\n",
    "\n",
    "accuracy = accuracy_score(y_test, y_pred)\n",
    "print(f'Acurácia: {accuracy}') # mostra a acuracia do modelo, porcentagem de acertos \n",
    "\n",
    "# Matriz de Confusão\n",
    "conf_matrix = confusion_matrix(y_test, y_pred)\n",
    "print( conf_matrix) # Mostra a quantidade de erros e acertos do modelo \n",
    "\n",
    "# Relatório de Classificação\n",
    "print( classification_report(y_test, y_pred))"
   ]
  }
 ],
 "metadata": {
  "kernelspec": {
   "display_name": "Python 3",
   "language": "python",
   "name": "python3"
  },
  "language_info": {
   "codemirror_mode": {
    "name": "ipython",
    "version": 3
   },
   "file_extension": ".py",
   "mimetype": "text/x-python",
   "name": "python",
   "nbconvert_exporter": "python",
   "pygments_lexer": "ipython3",
   "version": "3.12.8"
  }
 },
 "nbformat": 4,
 "nbformat_minor": 2
}
