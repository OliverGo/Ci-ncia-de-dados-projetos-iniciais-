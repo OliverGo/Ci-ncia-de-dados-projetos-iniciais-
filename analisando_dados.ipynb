{
 "cells": [
  {
   "cell_type": "code",
   "execution_count": null,
   "metadata": {},
   "outputs": [
    {
     "name": "stdout",
     "output_type": "stream",
     "text": [
      "  Turma     Alunos  Notas\n",
      "0     A        Ana      5\n",
      "1     A      Bruna      0\n",
      "2     A      Carla      7\n",
      "3     A     Daniel      9\n",
      "4     A       Lois      6\n",
      "5     A      Ester      9\n",
      "6     A       Ivna      8\n",
      "7     A       Gael      8\n",
      "0     B      Pedro      5\n",
      "1     B      Victo      0\n",
      "2     B    Natalia      7\n",
      "3     B  Guilherme      9\n",
      "4     B      Julio      6\n",
      "0     C      Livia      5\n",
      "1     C     Otavio      0\n",
      "2     C      Arthu      7\n",
      "3     C      Denis      9\n"
     ]
    },
    {
     "name": "stderr",
     "output_type": "stream",
     "text": [
      "C:\\Users\\USER\\AppData\\Local\\Temp\\ipykernel_11180\\2389523408.py:35: FutureWarning: Downcasting behavior in `replace` is deprecated and will be removed in a future version. To retain the old behavior, explicitly call `result.infer_objects(copy=False)`. To opt-in to the future behavior, set `pd.set_option('future.no_silent_downcasting', True)`\n",
      "  turma1_df['Notas'] = turma1_df['Notas'].replace('C', 0)\n"
     ]
    },
    {
     "data": {
      "image/png": "[encoded data removed]",
      "text/plain": [
       "<Figure size 640x480 with 1 Axes>"
      ]
     },
     "metadata": {},
     "output_type": "display_data"
    }
   ],
   "source": [
    "\n",
    "#Importa as bibliotecas necessárias\n",
    "import pandas as pd\n",
    "import numpy as pn \n",
    "import matplotlib.pyplot as plt\n",
    "import seaborn as se\n",
    "\n",
    "#Cria dicionarios com dados, como nome da turmam, os alunos quer pertence a turma, e suas notas \n",
    "Turma_1 = {\n",
    "    'Turma': 'A',\n",
    "    'Alunos':['Ana', 'Bruna', 'Carla', 'Daniel', 'Lois', 'Ester', 'Ivna', 'Gael'],\n",
    "    'Notas': [5, 'C', 7, 9, 'B', 9, 8, 8 ]\n",
    "}\n",
    "\n",
    "Turma_2 = {\n",
    "    'Turma': 'B',\n",
    "    'Alunos': ['Pedro', 'Victo', 'Natalia', 'Guilherme', 'Julio'],\n",
    "    'Notas': [8, 7, 'A', 6, 9] \n",
    "    }\n",
    "\n",
    "Turma_3 = {\n",
    "    'Turma': 'C',\n",
    "    'Alunos': ['Livia', 'Otavio', 'Arthu', 'Denis'],\n",
    "    'Notas': [7, 'C', 'B', 8]\n",
    "}\n",
    "\n",
    "#Transforma os dicionarios em DataFrame\n",
    "turma1_df = pd.DataFrame(Turma_1)\n",
    "Turma2_df = pd.DataFrame(Turma_2)\n",
    "Turma3_df = pd.DataFrame(Turma_3)\n",
    "\n",
    "\n",
    "\n",
    "#Susbstitui valores para padronização de dados\n",
    "turma1_df['Notas'] = turma1_df['Notas'].replace('A', 10)\n",
    "turma1_df['Notas'] = turma1_df['Notas'].replace('B', 6)\n",
    "turma1_df['Notas'] = turma1_df['Notas'].replace('C', 0)\n",
    "\n",
    "Turma2_df['Notas'] = turma1_df['Notas'].replace('A', 10)\n",
    "Turma2_df['Notas'] = turma1_df['Notas'].replace('B', 6)\n",
    "Turma2_df['Notas'] = turma1_df['Notas'].replace('C', 0)\n",
    "\n",
    "Turma3_df['Notas'] = turma1_df['Notas'].replace('A', 10)\n",
    "Turma3_df['Notas'] = turma1_df['Notas'].replace('B', 6)\n",
    "Turma3_df['Notas'] = turma1_df['Notas'].replace('C', 0)\n",
    "\n",
    "\n",
    "#Usar o comando concat() para juntar as três turmas \n",
    "df_todas = pd.concat([turma1_df, Turma2_df, Turma3_df])\n",
    "print(df_todas)\n",
    "\n",
    "#Cria graficos com as notas de cada turma \n",
    "se.barplot(data=df_todas, x='Turma', y='Notas')\n",
    "plt.title = 'Notas 4 bimestre'\n",
    "plt.show()\n",
    "\n",
    "\n",
    "\n",
    "\n"
   ]
  }
 ],
 "metadata": {
  "kernelspec": {
   "display_name": "Python 3",
   "language": "python",
   "name": "python3"
  },
  "language_info": {
   "codemirror_mode": {
    "name": "ipython",
    "version": 3
   },
   "file_extension": ".py",
   "mimetype": "text/x-python",
   "name": "python",
   "nbconvert_exporter": "python",
   "pygments_lexer": "ipython3",
   "version": "3.12.3"
  }
 },
 "nbformat": 4,
 "nbformat_minor": 2
}
