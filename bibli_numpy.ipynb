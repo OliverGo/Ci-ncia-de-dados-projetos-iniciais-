{
 "cells": [
  {
   "cell_type": "markdown",
   "metadata": {},
   "source": [
    "# Numpy"
   ]
  },
  {
   "cell_type": "code",
   "execution_count": null,
   "metadata": {},
   "outputs": [
    {
     "name": "stdout",
     "output_type": "stream",
     "text": [
      "[12 33  7  7  8 88 90  3  2  6 76  4]\n",
      ".............................................................................................................\n",
      "[[1 2 3]\n",
      " [1 5 6]\n",
      " [0 8 9]]\n",
      ".............................................................................................................\n",
      "(12,)\n",
      "(3, 3)\n",
      ".............................................................................................................\n",
      "12\n",
      "9\n",
      ".............................................................................................................\n",
      "  C_CONTIGUOUS : True\n",
      "  F_CONTIGUOUS : False\n",
      "  OWNDATA : True\n",
      "  WRITEABLE : True\n",
      "  ALIGNED : True\n",
      "  WRITEBACKIFCOPY : False\n",
      "\n"
     ]
    }
   ],
   "source": [
    "import numpy as np \n",
    "numeros = np.array([12,33,7,7,8,88,90,3,2,6,76,4])#cria uma array de 1 dimensão\n",
    "print(numeros)\n",
    "print('.............................................................................................................')\n",
    "m = np.array([[1,2,3], [1,5,6], [0,8,9]])#cria um array bidimesional\n",
    "print(m)\n",
    "print('.............................................................................................................')\n",
    "print(numeros.shape)#mostra a dimensao da array\n",
    "print(m.shape)\n",
    "\n",
    "print('.............................................................................................................')\n",
    "print(numeros.size)#mostra a quantidade de elementos\n",
    "print(m.size)\n",
    "\n",
    "\n",
    "print('.............................................................................................................')\n",
    "print(m)"
   ]
  }
 ],
 "metadata": {
  "kernelspec": {
   "display_name": "Python 3",
   "language": "python",
   "name": "python3"
  },
  "language_info": {
   "codemirror_mode": {
    "name": "ipython",
    "version": 3
   },
   "file_extension": ".py",
   "mimetype": "text/x-python",
   "name": "python",
   "nbconvert_exporter": "python",
   "pygments_lexer": "ipython3",
   "version": "3.12.3"
  }
 },
 "nbformat": 4,
 "nbformat_minor": 2
}
