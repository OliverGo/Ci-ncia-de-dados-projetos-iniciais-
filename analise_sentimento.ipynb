{
 "cells": [
  {
   "cell_type": "markdown",
   "metadata": {},
   "source": [
    "Quais bibliotecas e ferramentas são necessárias para realizar essa análise? Importe essas bibliotecas em um ambiente de desenvolvimento como Google Colab ou Jupyter Notebook.\n",
    "\n",
    "- pandas para criar e manipular dataFrames, numpy para realizar operaçoes, slkearn para usar funções de vetorizar, nltk para manipula stopword em portugues \n",
    "\n",
    "Como podemos transformar os textos brutos em uma forma utilizável para o modelo? Utilize a técnica TfidfVectorizer para converter os textos em uma matriz de características numéricas. Explique por que o pré-processamento é essencial para a análise de texto.\n",
    "\n",
    "- O pre-processamento ajuda a transforma dados 'brutos' em dados que o modelo entenda, para nao afeta o resultado \n",
    "\n",
    "Qual modelo de classificação devemos usar e por quê? Construa um pipeline que integra o pré-processamento de texto e o modelo. Explique a sua escolha de modelo para a tarefa de análise de sentimento.\n",
    "\n",
    "- O Naive Bayes pois é util para problemas de classificação de texto. Ele funciona bem quando as palavras  são independentes, o que é uma boa aproximação no caso de muitos modelos de texto.\n",
    "\n",
    "Como treinamos o modelo para que ele aprenda a classificar os comentários? Treine o modelo Naive Bayes usando os dados de treino. Descreva o processo de treinamento e como o modelo aprende a partir dos exemplos rotulados.\n",
    "\n",
    "- Ele aprende a parti do aprendizado supervisionado, ondem é exposto para o modelo um conjunto de dados para treinamento. O modelo deve a parti de palavras chaves  entender os rotulos pre-definidos.\n",
    "\n",
    "Como podemos avaliar o desempenho do modelo? Avalie o modelo usando o conjunto de teste e calcule a acurácia. Explique o que a acurácia nos diz sobre a qualidade das previsões do modelo.\n",
    "- É necessário mostrar para o modelo um conjunto de dados que não foi usado no treinamento. E observar a acuracia (o número de erros e acertos )\n",
    "Boa prática!"
   ]
  },
  {
   "cell_type": "code",
   "execution_count": 14,
   "metadata": {},
   "outputs": [
    {
     "name": "stdout",
     "output_type": "stream",
     "text": [
      "Acurácia: 0.0\n"
     ]
    },
    {
     "data": {
      "text/plain": [
       "<Axes: >"
      ]
     },
     "execution_count": 14,
     "metadata": {},
     "output_type": "execute_result"
    },
    {
     "data": {
      "image/png": "[encoded data removed]",
      "text/plain": [
       "<Figure size 640x480 with 2 Axes>"
      ]
     },
     "metadata": {},
     "output_type": "display_data"
    }
   ],
   "source": [
    "import pandas as pd\n",
    "import numpy as np\n",
    "import matplotlib.pyplot as plt\n",
    "import seaborn as sns\n",
    "from sklearn.model_selection import train_test_split\n",
    "from sklearn.feature_extraction.text import TfidfVectorizer\n",
    "from sklearn.naive_bayes import MultinomialNB\n",
    "from sklearn.pipeline import Pipeline\n",
    "from sklearn.metrics import accuracy_score, classification_report, confusion_matrix\n",
    "import nltk\n",
    "from nltk.corpus import stopwords\n",
    "\n",
    "stop_words = stopwords.words('portuguese')\n",
    "# dados\n",
    "data = pd.DataFrame({\n",
    "    'comentario': [\n",
    "        \"Eu adorei este produto!\", \n",
    "        \"Este filme é maravilhoso\",  \n",
    "        \"Pior experiência de todas\",  \n",
    "        \"A comida estava horrível\",  \n",
    "        \"Atendimento excelente, voltarei\", \n",
    "        \"Não valeu a pena\",  \n",
    "        \"Super recomendo!\",  \n",
    "        \"A qualidade é péssima\", \n",
    "        \"Desempenho incrível\",  \n",
    "        \"Eu odiei a comida\"  \n",
    "    ],\n",
    "    'sentimentos': [1, 1, 0, 0, 1, 0, 1, 0, 1, 0]  # 1 = Positivo, 0 = Negativo\n",
    "})\n",
    "\n",
    "# Dividindo os dados em treino e teste\n",
    "X_train, X_test, y_train, y_test = train_test_split(data['comentario'], data['sentimentos'], test_size=0.2, random_state=42)\n",
    "\n",
    "\n",
    "pipeline = Pipeline([\n",
    "    ('tfidf', TfidfVectorizer(stop_words=stop_words)),  # Usando stop_words em português\n",
    "    ('nb', MultinomialNB())\n",
    "])\n",
    "\n",
    "# Treina o modelo com o pipeline\n",
    "pipeline.fit(X_train, y_train)\n",
    "\n",
    "# Faz previsões no conjunto de teste\n",
    "y_pred = pipeline.predict(X_test)\n",
    "\n",
    "# Avalia a acurácia\n",
    "print(\"Acurácia:\", accuracy_score(y_test, y_pred))\n",
    "\n",
    "\n",
    "\n",
    "# Matriz de confusão\n",
    "sns.heatmap(confusion_matrix(y_test, y_pred), annot=True, fmt='d', cmap='Blues', xticklabels=[\"Negativo\", \"Positivo\"], yticklabels=[\"Negativo\", \"Positivo\"])\n"
   ]
  },
  {
   "cell_type": "code",
   "execution_count": null,
   "metadata": {},
   "outputs": [
    {
     "name": "stderr",
     "output_type": "stream",
     "text": [
      "[nltk_data] Downloading package stopwords to\n",
      "[nltk_data]     C:\\Users\\USER\\AppData\\Roaming\\nltk_data...\n",
      "[nltk_data]   Unzipping corpora\\stopwords.zip.\n"
     ]
    },
    {
     "data": {
      "text/plain": [
       "True"
      ]
     },
     "execution_count": 8,
     "metadata": {},
     "output_type": "execute_result"
    }
   ],
   "source": []
  }
 ],
 "metadata": {
  "kernelspec": {
   "display_name": "Python 3",
   "language": "python",
   "name": "python3"
  },
  "language_info": {
   "codemirror_mode": {
    "name": "ipython",
    "version": 3
   },
   "file_extension": ".py",
   "mimetype": "text/x-python",
   "name": "python",
   "nbconvert_exporter": "python",
   "pygments_lexer": "ipython3",
   "version": "3.12.8"
  }
 },
 "nbformat": 4,
 "nbformat_minor": 2
}
