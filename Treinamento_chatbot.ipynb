{
 "cells": [
  {
   "cell_type": "markdown",
   "metadata": {},
   "source": [
    "### Treinamento de um chatbot\n",
    "\n",
    "\n",
    "De que maneira o uso do Word2Vec ajudaria o chatbot a entender diferentes variações das perguntas dos usuários?\n",
    "\n",
    " O Word2Vec ajuda a chatbot indentificar palavras semelhantes, ele ajuda a diferentes úsuarios a obter resposta eficientes utilizando variações de peruntas. Por exemplo: usuario que pergutarem 'como trocar um ssd?' terão resposta semelhante ao usuario que perguntar 'como substituir o ssd?', pois o Word2Vec consegue entender o sinonimo entre 'troca' e 'substituir'.\n",
    "\n",
    "Como o uso de redes neurais recorrentes pode impactar a continuidade do diálogo em uma conversa mais longa com o chatbot? \n",
    "\n",
    "Redes neurais recorrentes ajudam na continuariadade do dialogo pois ela leva em consideração o contexto e resposta anteriores, facilitando sua sequecia de resposta que é essecial para continuar um dialogo "
   ]
  }
 ],
 "metadata": {
  "language_info": {
   "name": "python"
  }
 },
 "nbformat": 4,
 "nbformat_minor": 2
}
